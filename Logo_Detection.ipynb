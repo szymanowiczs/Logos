{
 "cells": [
  {
   "cell_type": "code",
   "execution_count": 1,
   "metadata": {},
   "outputs": [],
   "source": [
    "import numpy as np\n",
    "import cv2\n",
    "import glob\n",
    "\n",
    "try:\n",
    "    from PIL import Image\n",
    "except ImportError:\n",
    "    import Image"
   ]
  },
  {
   "cell_type": "code",
   "execution_count": 2,
   "metadata": {
    "collapsed": true
   },
   "outputs": [],
   "source": [
    "# For each pixel create a vector containing its Saturation, Value and x- and y-coordinates\n",
    "def pixelVectors(hsv):\n",
    "    row_idx = 0\n",
    "    column_idx = 0\n",
    "    # Create an empty matrix for storing pixel data\n",
    "    pixel_data = np.zeros([len(hsv), len(hsv[0]), len(hsv[0][0])+1])\n",
    "    for row in hsv:\n",
    "        for pixel in row:\n",
    "            # Put the vector for that pixel in the matrix\n",
    "            pixel_data[row_idx][column_idx] = [pixel[1],pixel[2],column_idx,row_idx]\n",
    "            column_idx+=1\n",
    "        column_idx = 0\n",
    "        row_idx+=1\n",
    "    # Flatten the matrix with the pixel data into a list of vectors\n",
    "    pixel_data = pixel_data.reshape(len(pixel_data)*len(pixel_data[0]), len(pixel_data[0][0]))\n",
    "    return pixel_data"
   ]
  },
  {
   "cell_type": "code",
   "execution_count": 3,
   "metadata": {
    "collapsed": true
   },
   "outputs": [],
   "source": [
    "# Normalise the vectors using means and standard deviations\n",
    "def normalisePixels(pixel_data):\n",
    "    means = np.mean(pixel_data, axis=0)\n",
    "    stds = np.std(pixel_data, axis=0)\n",
    "    normed_pixels = []\n",
    "    for row in pixel_data:\n",
    "        normed_pixels.append((row-means)/stds)\n",
    "    return normed_pixels,means,stds"
   ]
  },
  {
   "cell_type": "code",
   "execution_count": 6,
   "metadata": {},
   "outputs": [
    {
     "data": {
      "text/plain": [
       "array([[ -8.51038903e-02,   3.31276740e-02,   4.33720122e-03,\n",
       "          1.04248021e-02],\n",
       "       [  1.01547814e+01,  -3.95286613e+00,  -5.17524287e-01,\n",
       "         -1.24391007e+00]])"
      ]
     },
     "execution_count": 6,
     "metadata": {},
     "output_type": "execute_result"
    }
   ],
   "source": [
    "# The cluster with the logo is the one with higher Saturation and Value - this chooses colourful regions over black and white\n",
    "def findLogoCluster(cluster_centers)\n",
    "    if (cluster_centers[0][0]**2+cluster_centers[0][1]**2) > (cluster_centers[1][0]**2+cluster_centers[1][1]**2):\n",
    "        logo_cluster = 0\n",
    "    else:\n",
    "        logo_cluster = 1\n",
    "    return logo_cluster"
   ]
  },
  {
   "cell_type": "code",
   "execution_count": null,
   "metadata": {
    "collapsed": true
   },
   "outputs": [],
   "source": [
    "# With red points mark on the original image what points are in the cluster identified as the logo\n",
    "red = [0, 0, 255]\n",
    "def showLogoCluster(normed_pixels, kmeans, means, stds, img)\n",
    "    for point in normed_pixels:\n",
    "        # Convert to the original points using the means and standard deviations\n",
    "        if kmeans.predict([point]) == logo_cluster:\n",
    "            if point[2]*stds[2]+means[2] > len(img)-2:\n",
    "                xcoord = len(img)-1\n",
    "            else:\n",
    "                xcoord = point[2]*stds[2]+means[2]\n",
    "            if point[3]*stds[3]+means[3] > len(img[0])-2:\n",
    "                ycoord = len(img[0])-1\n",
    "            else:\n",
    "                ycoord = point[3]*stds[3]+means[3]\n",
    "            img[int(round(ycoord)), int(round(xcoord))] = red\n",
    "    cv2.imshow('img',img)\n",
    "    cv2.waitKey(0)\n",
    "    cv2.destroyAllWindows()    "
   ]
  },
  {
   "cell_type": "code",
   "execution_count": 8,
   "metadata": {},
   "outputs": [
    {
     "ename": "error",
     "evalue": "OpenCV(4.0.0) C:\\projects\\opencv-python\\opencv\\modules\\imgproc\\src\\color.cpp:181: error: (-215:Assertion failed) !_src.empty() in function 'cv::cvtColor'\n",
     "output_type": "error",
     "traceback": [
      "\u001b[1;31m---------------------------------------------------------------------------\u001b[0m",
      "\u001b[1;31merror\u001b[0m                                     Traceback (most recent call last)",
      "\u001b[1;32m<ipython-input-8-3da3ba71a83c>\u001b[0m in \u001b[0;36m<module>\u001b[1;34m()\u001b[0m\n\u001b[0;32m      5\u001b[0m         \u001b[0mimg\u001b[0m \u001b[1;33m=\u001b[0m \u001b[0mcv2\u001b[0m\u001b[1;33m.\u001b[0m\u001b[0mimread\u001b[0m\u001b[1;33m(\u001b[0m\u001b[0mfilename\u001b[0m\u001b[1;33m)\u001b[0m\u001b[1;33m\u001b[0m\u001b[0m\n\u001b[0;32m      6\u001b[0m         \u001b[1;32mif\u001b[0m \u001b[0mtype\u001b[0m\u001b[1;33m(\u001b[0m\u001b[0mimg\u001b[0m\u001b[1;33m)\u001b[0m\u001b[1;33m!=\u001b[0m\u001b[1;32mNone\u001b[0m\u001b[1;33m:\u001b[0m\u001b[1;33m\u001b[0m\u001b[0m\n\u001b[1;32m----> 7\u001b[1;33m             \u001b[0mhsv_img\u001b[0m \u001b[1;33m=\u001b[0m \u001b[0mcv2\u001b[0m\u001b[1;33m.\u001b[0m\u001b[0mcvtColor\u001b[0m\u001b[1;33m(\u001b[0m\u001b[0mimg\u001b[0m\u001b[1;33m,\u001b[0m \u001b[0mcv2\u001b[0m\u001b[1;33m.\u001b[0m\u001b[0mCOLOR_BGR2HSV\u001b[0m\u001b[1;33m)\u001b[0m\u001b[1;33m\u001b[0m\u001b[0m\n\u001b[0m\u001b[0;32m      8\u001b[0m             \u001b[0mimage_list\u001b[0m\u001b[1;33m.\u001b[0m\u001b[0mappend\u001b[0m\u001b[1;33m(\u001b[0m\u001b[0mhsv_img\u001b[0m\u001b[1;33m)\u001b[0m\u001b[1;33m\u001b[0m\u001b[0m\n\u001b[0;32m      9\u001b[0m \u001b[1;31m#img = cv2.imread('100082743.png')\u001b[0m\u001b[1;33m\u001b[0m\u001b[1;33m\u001b[0m\u001b[0m\n",
      "\u001b[1;31merror\u001b[0m: OpenCV(4.0.0) C:\\projects\\opencv-python\\opencv\\modules\\imgproc\\src\\color.cpp:181: error: (-215:Assertion failed) !_src.empty() in function 'cv::cvtColor'\n"
     ]
    }
   ],
   "source": [
    "# Read all images into a list\n",
    "image_list = []\n",
    "for ext in [\"jpg\",\"gif\",\"png\"]:\n",
    "    for filename in glob.glob('C:/users/szyma/Documents/Data Science projects/Logos/logo_images/*.%s' % ext) : #assuming png\n",
    "        img = cv2.imread(filename)\n",
    "        if type(img)!=None:\n",
    "            hsv_img = cv2.cvtColor(img, cv2.COLOR_BGR2HSV)\n",
    "            image_list.append(hsv_img)\n",
    "#img = cv2.imread('100082743.png')\n",
    "#hsv = cv2.cvtColor(img, cv2.COLOR_BGR2HSV)"
   ]
  },
  {
   "cell_type": "code",
   "execution_count": 5,
   "metadata": {
    "collapsed": true
   },
   "outputs": [],
   "source": [
    "# Run K-means clustering on the normalised vectors\n",
    "from sklearn.cluster import KMeans\n",
    "# Assume 2 clusters - one for logo and one for the rest of the document\n",
    "kmeans = KMeans(n_clusters=2, random_state=0).fit(normed_pixels)\n",
    "cluster_centers = kmeans.cluster_centers_"
   ]
  },
  {
   "cell_type": "markdown",
   "metadata": {
    "collapsed": true
   },
   "source": []
  }
 ],
 "metadata": {
  "kernelspec": {
   "display_name": "Python 3",
   "language": "python",
   "name": "python3"
  },
  "language_info": {
   "codemirror_mode": {
    "name": "ipython",
    "version": 3
   },
   "file_extension": ".py",
   "mimetype": "text/x-python",
   "name": "python",
   "nbconvert_exporter": "python",
   "pygments_lexer": "ipython3",
   "version": "3.5.6"
  }
 },
 "nbformat": 4,
 "nbformat_minor": 2
}
