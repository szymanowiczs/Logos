{
 "cells": [
  {
   "cell_type": "code",
   "execution_count": 3,
   "metadata": {},
   "outputs": [],
   "source": [
    "import numpy as np\n",
    "import cv2\n",
    "import pytesseract\n",
    "\n",
    "try:\n",
    "    from PIL import Image\n",
    "except ImportError:\n",
    "    import Image\n",
    "\n",
    "# Read a sample image to experiment on\n",
    "img = cv2.imread('ARITACER1.jpg')"
   ]
  },
  {
   "cell_type": "code",
   "execution_count": 5,
   "metadata": {},
   "outputs": [
    {
     "name": "stdout",
     "output_type": "stream",
     "text": [
      "‘ 400 0 400 0 0\n",
      "T 120 410 121 418 0\n",
      "Y 121 410 131 418 0\n",
      "P 131 410 139 418 0\n",
      "E 139 410 146 418 0\n",
      "A 152 410 157 417 0\n",
      "P 160 410 166 417 0\n",
      "P 166 410 166 417 0\n",
      "R 172 409 176 417 0\n",
      "O 176 409 181 417 0\n",
      "V 185 409 192 417 0\n",
      "A 192 409 197 417 0\n",
      "L 199 409 210 417 0\n",
      "C 214 409 218 417 0\n",
      "E 218 409 223 417 0\n",
      "R 223 409 229 417 0\n",
      "T 231 409 239 417 0\n",
      "I 239 409 244 417 0\n",
      "F 244 409 246 417 0\n",
      "I 250 408 256 416 0\n",
      "C 256 408 260 416 0\n",
      "A 260 408 269 416 0\n",
      "T 272 408 276 416 0\n",
      "E 279 408 285 416 0\n",
      "a 130 350 255 396 0\n",
      "H 259 382 269 389 0\n",
      "o 273 382 278 389 0\n",
      "B 30 332 44 343 0\n",
      "e 51 321 54 336 0\n",
      "e 54 320 78 342 0\n",
      "m 79 332 104 336 0\n",
      ": 105 332 112 336 0\n",
      "2 115 332 119 336 0\n",
      "s 120 332 123 335 0\n",
      "m 125 331 135 336 0\n",
      "a 135 331 138 336 0\n",
      "p 147 332 152 335 0\n",
      "“ 135 192 136 198 0\n",
      "W 136 192 139 198 0\n",
      "i 139 192 139 198 0\n",
      "s 141 192 147 197 0\n",
      "c 147 192 149 197 0\n",
      "o 152 192 170 197 0\n",
      "l 185 192 194 197 0\n",
      "n 197 190 202 197 0\n",
      "g 202 190 212 197 0\n",
      "o 213 192 217 195 0\n",
      "n 220 191 227 196 0\n",
      "S 231 191 238 197 0\n",
      "p 245 190 252 196 0\n",
      "2 400 0 400 0 0\n",
      "8 255 191 261 196 0\n",
      "0 261 191 266 196 0\n",
      "1 267 191 269 196 0\n",
      "~ 0 0 400 500 0\n"
     ]
    }
   ],
   "source": [
    "# Get bounding box estimates\n",
    "print(pytesseract.image_to_boxes(Image.open('ARITACER1.jpg')))"
   ]
  },
  {
   "cell_type": "code",
   "execution_count": 8,
   "metadata": {},
   "outputs": [
    {
     "data": {
      "text/plain": [
       "-1"
      ]
     },
     "execution_count": 8,
     "metadata": {},
     "output_type": "execute_result"
    }
   ],
   "source": [
    "filename = 'ARITACER1.jpg'\n",
    "h, w, _ = img.shape # assumes color image\n",
    "\n",
    "# run tesseract, returning the bounding boxes\n",
    "boxes = pytesseract.image_to_boxes(img) # also include any config options you use\n",
    "\n",
    "# draw the bounding boxes on the image\n",
    "for b in boxes.splitlines():\n",
    "    b = b.split(' ')\n",
    "    img = cv2.rectangle(img, (int(b[1]), h - int(b[2])), (int(b[3]), h - int(b[4])), (0, 255, 0), 2)\n",
    "\n",
    "# show annotated image and wait for keypress\n",
    "cv2.imshow(filename, img)\n",
    "cv2.waitKey(0)"
   ]
  },
  {
   "cell_type": "code",
   "execution_count": null,
   "metadata": {
    "collapsed": true
   },
   "outputs": [],
   "source": [
    "from sklearn.cluster import KMeans\n",
    "kmeans = KMeans(n_clusters=4, random_state=0).fit(tumor_aslist)\n",
    "pred = kmeans.labels_"
   ]
  }
 ],
 "metadata": {
  "kernelspec": {
   "display_name": "Python 3",
   "language": "python",
   "name": "python3"
  },
  "language_info": {
   "codemirror_mode": {
    "name": "ipython",
    "version": 3
   },
   "file_extension": ".py",
   "mimetype": "text/x-python",
   "name": "python",
   "nbconvert_exporter": "python",
   "pygments_lexer": "ipython3",
   "version": "3.5.6"
  }
 },
 "nbformat": 4,
 "nbformat_minor": 2
}
