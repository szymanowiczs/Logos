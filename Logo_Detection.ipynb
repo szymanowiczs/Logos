{
 "cells": [
  {
   "cell_type": "code",
   "execution_count": 1,
   "metadata": {
    "collapsed": true
   },
   "outputs": [],
   "source": [
    "import numpy as np\n",
    "import cv2\n",
    "\n",
    "try:\n",
    "    from PIL import Image\n",
    "except ImportError:\n",
    "    import Image"
   ]
  },
  {
   "cell_type": "code",
   "execution_count": 2,
   "metadata": {
    "collapsed": true
   },
   "outputs": [],
   "source": [
    "# Read a sample image to experiment on\n",
    "img = cv2.imread('100082743.png')\n",
    "hsv = cv2.cvtColor(img, cv2.COLOR_BGR2HSV)"
   ]
  },
  {
   "cell_type": "code",
   "execution_count": 3,
   "metadata": {},
   "outputs": [
    {
     "name": "stdout",
     "output_type": "stream",
     "text": [
      "(386, 298, 3)\n",
      "(386, 298, 4)\n"
     ]
    }
   ],
   "source": [
    "row_idx = 0\n",
    "column_idx = 0\n",
    "pixel_data = np.zeros([len(hsv), len(hsv[0]), len(hsv[0][0])+1])\n",
    "print(hsv.shape)\n",
    "print(pixel_data.shape)\n",
    "for row in hsv:\n",
    "    for pixel in row:\n",
    "        pixel_data[row_idx][column_idx] = [pixel[1],pixel[2],column_idx,row_idx]\n",
    "        column_idx+=1\n",
    "    column_idx = 0\n",
    "    row_idx+=1\n",
    "pixel_data = pixel_data.reshape(len(pixel_data)*len(pixel_data[0]), len(pixel_data[0][0]))"
   ]
  },
  {
   "cell_type": "code",
   "execution_count": 4,
   "metadata": {},
   "outputs": [
    {
     "data": {
      "text/plain": [
       "array([  5.73353034e-14,  -1.41890543e-14,   2.89552898e-20,\n",
       "         3.74372593e-17])"
      ]
     },
     "execution_count": 4,
     "metadata": {},
     "output_type": "execute_result"
    }
   ],
   "source": [
    "means = np.mean(pixel_data, axis=0)\n",
    "stds = np.std(pixel_data, axis=0)\n",
    "normed_pixels = []\n",
    "for row in pixel_data:\n",
    "    normed_pixels.append((row-means)/stds)\n",
    "np.mean(normed_pixels, axis=0)"
   ]
  },
  {
   "cell_type": "code",
   "execution_count": 5,
   "metadata": {
    "collapsed": true
   },
   "outputs": [],
   "source": [
    "from sklearn.cluster import KMeans\n",
    "kmeans = KMeans(n_clusters=2, random_state=0).fit(normed_pixels)"
   ]
  },
  {
   "cell_type": "code",
   "execution_count": 6,
   "metadata": {},
   "outputs": [
    {
     "data": {
      "text/plain": [
       "array([[ -8.51038903e-02,   3.31276740e-02,   4.33720122e-03,\n",
       "          1.04248021e-02],\n",
       "       [  1.01547814e+01,  -3.95286613e+00,  -5.17524287e-01,\n",
       "         -1.24391007e+00]])"
      ]
     },
     "execution_count": 6,
     "metadata": {},
     "output_type": "execute_result"
    }
   ],
   "source": [
    "kmeans.cluster_centers_"
   ]
  },
  {
   "cell_type": "code",
   "execution_count": null,
   "metadata": {
    "collapsed": true
   },
   "outputs": [],
   "source": [
    "red = [0, 0, 255]\n",
    "for point in normed_pixels:\n",
    "    if kmeans.predict([point]) == 1:\n",
    "        if point[2]*stds[2]+means[2] > len(img)-2:\n",
    "            xcoord = len(img)-1\n",
    "        else:\n",
    "            xcoord = point[2]*stds[2]+means[2]\n",
    "        if point[3]*stds[3]+means[3] > len(img[0])-2:\n",
    "            ycoord = len(img[0])-1\n",
    "        else:\n",
    "            ycoord = point[3]*stds[3]+means[3]\n",
    "        img[int(round(ycoord)), int(round(xcoord))] = red\n",
    "cv2.imshow('img',img)\n",
    "cv2.waitKey(0)\n",
    "cv2.destroyAllWindows()    "
   ]
  },
  {
   "cell_type": "markdown",
   "metadata": {
    "collapsed": true
   },
   "source": []
  }
 ],
 "metadata": {
  "kernelspec": {
   "display_name": "Python 3",
   "language": "python",
   "name": "python3"
  },
  "language_info": {
   "codemirror_mode": {
    "name": "ipython",
    "version": 3
   },
   "file_extension": ".py",
   "mimetype": "text/x-python",
   "name": "python",
   "nbconvert_exporter": "python",
   "pygments_lexer": "ipython3",
   "version": "3.6.3"
  }
 },
 "nbformat": 4,
 "nbformat_minor": 2
}
