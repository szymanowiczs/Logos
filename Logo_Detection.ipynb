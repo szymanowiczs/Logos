{
 "cells": [
  {
   "cell_type": "code",
   "execution_count": 1,
   "metadata": {},
   "outputs": [],
   "source": [
    "import numpy as np\n",
    "import cv2\n",
    "import glob\n",
    "from sklearn.cluster import KMeans\n",
    "\n",
    "try:\n",
    "    from PIL import Image\n",
    "except ImportError:\n",
    "    import Image"
   ]
  },
  {
   "cell_type": "code",
   "execution_count": 2,
   "metadata": {},
   "outputs": [],
   "source": [
    "# For each pixel create a vector containing its Saturation, Value and x- and y-coordinates\n",
    "def pixelVectors(hsv):\n",
    "    row_idx = 0\n",
    "    column_idx = 0\n",
    "    # Create an empty matrix for storing pixel data\n",
    "    pixel_data = np.zeros([len(hsv), len(hsv[0]), len(hsv[0][0])+1])\n",
    "    for row in hsv:\n",
    "        for pixel in row:\n",
    "            # Put the vector for that pixel in the matrix\n",
    "            pixel_data[row_idx][column_idx] = [pixel[1],pixel[2],column_idx,row_idx]\n",
    "            column_idx+=1\n",
    "        column_idx = 0\n",
    "        row_idx+=1\n",
    "    # Flatten the matrix with the pixel data into a list of vectors\n",
    "    pixel_data = pixel_data.reshape(len(pixel_data)*len(pixel_data[0]), len(pixel_data[0][0]))\n",
    "    return pixel_data"
   ]
  },
  {
   "cell_type": "code",
   "execution_count": 3,
   "metadata": {},
   "outputs": [],
   "source": [
    "# Normalise the vectors using means and standard deviations\n",
    "def normalisePixels(pixel_data):\n",
    "    means = np.mean(pixel_data, axis=0)\n",
    "    stds = np.std(pixel_data, axis=0)\n",
    "    normed_pixels = []\n",
    "    for row in pixel_data:\n",
    "        normed_pixels.append((row-means)/stds)\n",
    "    return normed_pixels,means,stds"
   ]
  },
  {
   "cell_type": "code",
   "execution_count": 4,
   "metadata": {},
   "outputs": [],
   "source": [
    "# The cluster with the logo is the one with higher Saturation and Value - this chooses colourful regions over black and white\n",
    "def findLogoCluster(cluster_centers):\n",
    "    if (cluster_centers[0][0]**2+cluster_centers[0][1]**2) > (cluster_centers[1][0]**2+cluster_centers[1][1]**2):\n",
    "        logo_cluster = 0\n",
    "    else:\n",
    "        logo_cluster = 1\n",
    "    return logo_cluster"
   ]
  },
  {
   "cell_type": "code",
   "execution_count": 5,
   "metadata": {},
   "outputs": [],
   "source": [
    "# With red points mark on the original image what points are in the cluster identified as the logo\n",
    "neon_green = [57, 255, 20]\n",
    "def showLogoCluster(normed_pixels, kmeans, means, stds, img):\n",
    "    for point in normed_pixels:\n",
    "        # Convert to the original points using the means and standard deviations\n",
    "        if kmeans.predict([point]) == logo_cluster:\n",
    "            if point[2]*stds[2]+means[2] > len(img)-2:\n",
    "                xcoord = len(img)-1\n",
    "            else:\n",
    "                xcoord = point[2]*stds[2]+means[2]\n",
    "            if point[3]*stds[3]+means[3] > len(img[0])-2:\n",
    "                ycoord = len(img[0])-1\n",
    "            else:\n",
    "                ycoord = point[3]*stds[3]+means[3]\n",
    "            img[int(round(ycoord)), int(round(xcoord))] = neon_green\n",
    "    cv2.imshow('img',img)\n",
    "    cv2.waitKey(0)\n",
    "    cv2.destroyAllWindows()    "
   ]
  },
  {
   "cell_type": "code",
   "execution_count": 14,
   "metadata": {},
   "outputs": [],
   "source": [
    "img = cv2.imread('images (3).jpg')\n",
    "hsv = cv2.cvtColor(img, cv2.COLOR_BGR2HSV)\n",
    "pixel_data = pixelVectors(hsv)\n",
    "normed_pixels, means, stds = normalisePixels(pixel_data)\n",
    "# Run K-means clustering on the normalised vectors\n",
    "# Assume 2 clusters - one for logo and one for the rest of the document\n",
    "kmeans = KMeans(n_clusters=2, random_state=0).fit(normed_pixels)\n",
    "cluster_centers = kmeans.cluster_centers_\n",
    "logo_cluster = findLogoCluster(cluster_centers)\n",
    "showLogoCluster(normed_pixels, kmeans, means, stds, img)"
   ]
  },
  {
   "cell_type": "code",
   "execution_count": 13,
   "metadata": {},
   "outputs": [],
   "source": [
    "# Read all images into a list\n",
    "image_list = []\n",
    "for ext in [\"jpg\",\"gif\",\"png\"]:\n",
    "    for filename in glob.glob('C:/users/szyma/Documents/Data Science projects/Logos/logo_images/*.%s' % ext) : #assuming png\n",
    "        img = cv2.imread(filename)\n",
    "        image_list.append(img)"
   ]
  }
 ],
 "metadata": {
  "kernelspec": {
   "display_name": "Python 3",
   "language": "python",
   "name": "python3"
  },
  "language_info": {
   "codemirror_mode": {
    "name": "ipython",
    "version": 3
   },
   "file_extension": ".py",
   "mimetype": "text/x-python",
   "name": "python",
   "nbconvert_exporter": "python",
   "pygments_lexer": "ipython3",
   "version": "3.5.6"
  }
 },
 "nbformat": 4,
 "nbformat_minor": 2
}
