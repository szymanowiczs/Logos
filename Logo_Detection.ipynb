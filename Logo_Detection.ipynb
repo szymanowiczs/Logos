{
 "cells": [
  {
   "cell_type": "code",
   "execution_count": 10,
   "metadata": {},
   "outputs": [],
   "source": [
    "import numpy as np\n",
    "import cv2\n",
    "import glob\n",
    "from sklearn.cluster import KMeans\n",
    "import os\n",
    "\n",
    "try:\n",
    "    from PIL import Image\n",
    "except ImportError:\n",
    "    import Image"
   ]
  },
  {
   "cell_type": "code",
   "execution_count": 13,
   "metadata": {
    "collapsed": true
   },
   "outputs": [],
   "source": [
    "# List of a variety of files for preliminary testing\n",
    "files_to_test = ['100082743.png','290066548.png','advance-payment-against-proforma-invoice-non-b-nw.jpg','argentina-certificate-of-origin.jpg','ARITACER1.jpg','b3bab39a63b38db79cd20f1422a5a06d.jpg','Certificate_of_origin_example_LRG.jpg','commercial-invoice (1).jpg','commercial-invoice.jpg','download.PNG','images (1).jpg','images (1).PNG','images (2).PNG']"
   ]
  },
  {
   "cell_type": "code",
   "execution_count": 15,
   "metadata": {},
   "outputs": [
    {
     "data": {
      "text/plain": [
       "0"
      ]
     },
     "execution_count": 15,
     "metadata": {},
     "output_type": "execute_result"
    }
   ],
   "source": [
    "os.system(\"python text_detect.py -i \"+files_to_test[0]+)"
   ]
  },
  {
   "cell_type": "code",
   "execution_count": 31,
   "metadata": {
    "collapsed": true
   },
   "outputs": [],
   "source": [
    "def longestChild(contours, hierarchy):\n",
    "    # Find the longest contour\n",
    "    length_longest = 0\n",
    "    # Index to iterate through the hierarchy of the contours\n",
    "    i = 0\n",
    "    # Initially the longest contour is not found\n",
    "    longest_contour_idx = None\n",
    "    for contour in contours:\n",
    "        # Check that the contour has no children\n",
    "        # hierarchy[i][2] contains the index of the first child\n",
    "        # it is set to -1 if the contour has no children\n",
    "        if hierarchy[0][i][2] == -1:\n",
    "            # Check the length of the contour and update\n",
    "            # the longest contour, if appropriate\n",
    "            length = cv2.arcLength(contour, True)\n",
    "            if length>length_longest:\n",
    "                length_longest = length\n",
    "                longest_contour_idx = i\n",
    "        i+=1\n",
    "    # If a contour without children was not found trigger an error\n",
    "    assert longest_contour_idx!=None, 'Contour not found'\n",
    "    return longest_contour_idx\n",
    "\n",
    "# Find the contours on the document - logo is usually the largest connected component\n",
    "# with the longest contour. Uses the assumption that a logo contour will have no \n",
    "# children in the hierarchy\n",
    "for filename in files_to_test:\n",
    "    img = cv2.imread(filename)\n",
    "    # Use a Gaussian filter to reduce the noise\n",
    "    blur = cv2.GaussianBlur(img,(5,5),0)\n",
    "    imgray = cv2.cvtColor(img,cv2.COLOR_BGR2GRAY)    \n",
    "    # set up a threshold for finding contours\n",
    "    thresh = cv2.adaptiveThreshold(imgray,255,cv2.ADAPTIVE_THRESH_GAUSSIAN_C,cv2.THRESH_BINARY,11,2)\n",
    "    # find the contours and return the hierarchy in a tree form\n",
    "    im2, contours, hierarchy = cv2.findContours(thresh,cv2.RETR_TREE,cv2.CHAIN_APPROX_SIMPLE)\n",
    "    longest_contour_idx = longestChild(contours, hierarchy)\n",
    "    # draw the longest contour without children and show it\n",
    "    cv2.drawContours(img, contours, longest_contour_idx, (0,255,0), 3)\n",
    "    cv2.imshow('img',img)\n",
    "    cv2.waitKey(0)\n",
    "    cv2.destroyAllWindows()    "
   ]
  },
  {
   "cell_type": "code",
   "execution_count": null,
   "metadata": {
    "collapsed": true
   },
   "outputs": [],
   "source": [
    "# Try clustering with just the saturation value\n",
    "for filename in files_to_retest:\n",
    "    readClusterShow(filename)"
   ]
  },
  {
   "cell_type": "code",
   "execution_count": 13,
   "metadata": {
    "collapsed": true
   },
   "outputs": [],
   "source": [
    "# Read all images into a list\n",
    "image_list = []\n",
    "for ext in [\"jpg\",\"gif\",\"png\"]:\n",
    "    for filename in glob.glob('C:/users/szyma/Documents/Data Science projects/Logos/logo_images/*.%s' % ext) : #assuming png\n",
    "        img = cv2.imread(filename)\n",
    "        image_list.append(img)"
   ]
  },
  {
   "cell_type": "code",
   "execution_count": 24,
   "metadata": {
    "collapsed": true
   },
   "outputs": [],
   "source": [
    "# For each pixel create a vector containing its distance from ends of Lightness spectrum, \n",
    "# Saturation and x- and y-coordinates\n",
    "def pixelVectors(hls):\n",
    "    row_idx = 0\n",
    "    column_idx = 0\n",
    "    # Create an empty matrix for storing pixel data\n",
    "    pixel_data = np.zeros([len(hls), len(hls[0]), 3])\n",
    "    for row in hls:\n",
    "        for pixel in row:\n",
    "            # Put the vector for that pixel in the matrix\n",
    "            # To create the vector, use the saturation, distance from the end of lightness spectrum and \n",
    "            # coordinates. pixel[1] contains lighntess, pixel[2] saturation\n",
    "            pixel_data[row_idx][column_idx] = [pixel[2],column_idx,row_idx]\n",
    "            column_idx+=1\n",
    "        column_idx = 0\n",
    "        row_idx+=1\n",
    "    # Flatten the matrix with the pixel data into a list of vectors\n",
    "    pixel_data = pixel_data.reshape(len(pixel_data)*len(pixel_data[0]), len(pixel_data[0][0]))\n",
    "    return pixel_data\n",
    "\n",
    "# Normalise the vectors using means and standard deviations\n",
    "def normalisePixels(pixel_data):\n",
    "    means = np.mean(pixel_data, axis=0)\n",
    "    stds = np.std(pixel_data, axis=0)\n",
    "    normed_pixels = []\n",
    "    for row in pixel_data:\n",
    "        normed_pixels.append((row-means)/stds)\n",
    "    return normed_pixels,means,stds\n",
    "\n",
    "# The cluster with the logo is the one with higher Saturation \n",
    "# this chooses colourful regions over black and white\n",
    "def findLogoCluster(cluster_centers):\n",
    "    if (cluster_centers[0][0]) > (cluster_centers[1][0]):\n",
    "        logo_cluster = 0\n",
    "    else:\n",
    "        logo_cluster = 1\n",
    "    return logo_cluster\n",
    "\n",
    "# With neon green points mark on the original image what \n",
    "# points are in the cluster identified as the logo\n",
    "neon_green = [57, 255, 20]\n",
    "def showLogoCluster(normed_pixels, kmeans, means, stds, img):\n",
    "    for point in normed_pixels:\n",
    "        # Convert to the original points using the means and standard deviations\n",
    "        if kmeans.predict([point]) == logo_cluster:\n",
    "            # If belongs to the logo cluster find the location on the original\n",
    "            # image and change it to neon green\n",
    "            # First check it is not outside of the image length (rouning error)\n",
    "            if point[1]*stds[1]+means[1] > len(img)-2:\n",
    "                xcoord = len(img)-1\n",
    "            else:\n",
    "                xcoord = point[1]*stds[1]+means[1]\n",
    "            if point[2]*stds[2]+means[2] > len(img[0])-2:\n",
    "                ycoord = len(img[0])-1\n",
    "            else:\n",
    "                ycoord = point[2]*stds[2]+means[2]\n",
    "            # Change colour to neon green\n",
    "            img[int(round(ycoord)), int(round(xcoord))] = neon_green\n",
    "    cv2.imshow('img',img)\n",
    "    cv2.waitKey(0)\n",
    "    cv2.destroyAllWindows()    \n",
    "\n",
    "def readClusterShow(filename):\n",
    "    # Read image\n",
    "    img = cv2.imread(filename)\n",
    "    # Convert to HLS\n",
    "    hls = cv2.cvtColor(img, cv2.COLOR_BGR2HLS)\n",
    "    # Get the vectors for clustering\n",
    "    pixel_data = pixelVectors(hls)\n",
    "    normed_pixels, means, stds = normalisePixels(pixel_data)\n",
    "    # Run K-means clustering on the normalised vectors\n",
    "    # Assume 2 clusters - one for logo and one for the rest of the document\n",
    "    kmeans = KMeans(n_clusters=2, random_state=0).fit(normed_pixels)\n",
    "    cluster_centers = kmeans.cluster_centers_\n",
    "    print(cluster_centers*stds+means)\n",
    "    logo_cluster = findLogoCluster(cluster_centers)\n",
    "    showLogoCluster(normed_pixels, kmeans, means, stds, img)"
   ]
  }
 ],
 "metadata": {
  "kernelspec": {
   "display_name": "Python 3",
   "language": "python",
   "name": "python3"
  },
  "language_info": {
   "codemirror_mode": {
    "name": "ipython",
    "version": 3
   },
   "file_extension": ".py",
   "mimetype": "text/x-python",
   "name": "python",
   "nbconvert_exporter": "python",
   "pygments_lexer": "ipython3",
   "version": "3.6.3"
  }
 },
 "nbformat": 4,
 "nbformat_minor": 2
}
