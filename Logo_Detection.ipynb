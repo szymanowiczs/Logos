{
 "cells": [
  {
   "cell_type": "code",
   "execution_count": 3,
   "metadata": {},
   "outputs": [],
   "source": [
    "import numpy as np\n",
    "import cv2\n",
    "import glob\n",
    "from sklearn.cluster import KMeans\n",
    "\n",
    "try:\n",
    "    from PIL import Image\n",
    "except ImportError:\n",
    "    import Image"
   ]
  },
  {
   "cell_type": "code",
   "execution_count": 23,
   "metadata": {},
   "outputs": [],
   "source": [
    "# For each pixel create a vector containing its distance from ends of Lightness spectrum, \n",
    "# Saturation and x- and y-coordinates\n",
    "def pixelVectors(hls):\n",
    "    row_idx = 0\n",
    "    column_idx = 0\n",
    "    # Create an empty matrix for storing pixel data\n",
    "    pixel_data = np.zeros([len(hls), len(hls[0]), 3])\n",
    "    for row in hls:\n",
    "        for pixel in row:\n",
    "            # Put the vector for that pixel in the matrix\n",
    "            # To create the vector, use the saturation, distance from the end of lightness spectrum and \n",
    "            # coordinates. pixel[1] contains lighntess, pixel[2] saturation\n",
    "            pixel_data[row_idx][column_idx] = [pixel[2],column_idx,row_idx]\n",
    "            column_idx+=1\n",
    "        column_idx = 0\n",
    "        row_idx+=1\n",
    "    # Flatten the matrix with the pixel data into a list of vectors\n",
    "    pixel_data = pixel_data.reshape(len(pixel_data)*len(pixel_data[0]), len(pixel_data[0][0]))\n",
    "    return pixel_data"
   ]
  },
  {
   "cell_type": "code",
   "execution_count": 24,
   "metadata": {},
   "outputs": [],
   "source": [
    "# Normalise the vectors using means and standard deviations\n",
    "def normalisePixels(pixel_data):\n",
    "    means = np.mean(pixel_data, axis=0)\n",
    "    stds = np.std(pixel_data, axis=0)\n",
    "    normed_pixels = []\n",
    "    for row in pixel_data:\n",
    "        normed_pixels.append((row-means)/stds)\n",
    "    return normed_pixels,means,stds"
   ]
  },
  {
   "cell_type": "code",
   "execution_count": 25,
   "metadata": {},
   "outputs": [],
   "source": [
    "# The cluster with the logo is the one with higher Saturation and distance from the ends of the lightness spectrum\n",
    "# this chooses colourful regions over black and white\n",
    "def findLogoCluster(cluster_centers):\n",
    "    if (cluster_centers[0][0]) > (cluster_centers[1][0]):\n",
    "        logo_cluster = 0\n",
    "    else:\n",
    "        logo_cluster = 1\n",
    "    return logo_cluster"
   ]
  },
  {
   "cell_type": "code",
   "execution_count": 26,
   "metadata": {},
   "outputs": [],
   "source": [
    "# With red points mark on the original image what points are in the cluster identified as the logo\n",
    "neon_green = [57, 255, 20]\n",
    "def showLogoCluster(normed_pixels, kmeans, means, stds, img):\n",
    "    for point in normed_pixels:\n",
    "        # Convert to the original points using the means and standard deviations\n",
    "        if kmeans.predict([point]) == logo_cluster:\n",
    "            if point[1]*stds[1]+means[1] > len(img)-2:\n",
    "                xcoord = len(img)-1\n",
    "            else:\n",
    "                xcoord = point[1]*stds[1]+means[1]\n",
    "            if point[2]*stds[2]+means[2] > len(img[0])-2:\n",
    "                ycoord = len(img[0])-1\n",
    "            else:\n",
    "                ycoord = point[2]*stds[2]+means[2]\n",
    "            img[int(round(ycoord)), int(round(xcoord))] = neon_green\n",
    "    cv2.imshow('img',img)\n",
    "    cv2.waitKey(0)\n",
    "    cv2.destroyAllWindows()    "
   ]
  },
  {
   "cell_type": "code",
   "execution_count": 35,
   "metadata": {},
   "outputs": [
    {
     "name": "stdout",
     "output_type": "stream",
     "text": [
      "[[243.3096343  264.38606455 277.50394792]\n",
      " [  2.03236241 315.71117439 281.85717823]]\n"
     ]
    },
    {
     "ename": "error",
     "evalue": "OpenCV(4.0.0) C:\\projects\\opencv-python\\opencv\\modules\\imgproc\\src\\color.cpp:181: error: (-215:Assertion failed) !_src.empty() in function 'cv::cvtColor'\n",
     "output_type": "error",
     "traceback": [
      "\u001b[1;31m---------------------------------------------------------------------------\u001b[0m",
      "\u001b[1;31merror\u001b[0m                                     Traceback (most recent call last)",
      "\u001b[1;32m<ipython-input-35-3724e50b1ee6>\u001b[0m in \u001b[0;36m<module>\u001b[1;34m()\u001b[0m\n\u001b[0;32m      3\u001b[0m \u001b[1;32mfor\u001b[0m \u001b[0mfilename\u001b[0m \u001b[1;32min\u001b[0m \u001b[0mfiles_to_retest\u001b[0m\u001b[1;33m:\u001b[0m\u001b[1;33m\u001b[0m\u001b[0m\n\u001b[0;32m      4\u001b[0m     \u001b[0mimg\u001b[0m \u001b[1;33m=\u001b[0m \u001b[0mcv2\u001b[0m\u001b[1;33m.\u001b[0m\u001b[0mimread\u001b[0m\u001b[1;33m(\u001b[0m\u001b[0mfilename\u001b[0m\u001b[1;33m)\u001b[0m\u001b[1;33m\u001b[0m\u001b[0m\n\u001b[1;32m----> 5\u001b[1;33m     \u001b[0mhsl\u001b[0m \u001b[1;33m=\u001b[0m \u001b[0mcv2\u001b[0m\u001b[1;33m.\u001b[0m\u001b[0mcvtColor\u001b[0m\u001b[1;33m(\u001b[0m\u001b[0mimg\u001b[0m\u001b[1;33m,\u001b[0m \u001b[0mcv2\u001b[0m\u001b[1;33m.\u001b[0m\u001b[0mCOLOR_BGR2HLS\u001b[0m\u001b[1;33m)\u001b[0m\u001b[1;33m\u001b[0m\u001b[0m\n\u001b[0m\u001b[0;32m      6\u001b[0m     \u001b[0mpixel_data\u001b[0m \u001b[1;33m=\u001b[0m \u001b[0mpixelVectors\u001b[0m\u001b[1;33m(\u001b[0m\u001b[0mhsl\u001b[0m\u001b[1;33m)\u001b[0m\u001b[1;33m\u001b[0m\u001b[0m\n\u001b[0;32m      7\u001b[0m     \u001b[0mnormed_pixels\u001b[0m\u001b[1;33m,\u001b[0m \u001b[0mmeans\u001b[0m\u001b[1;33m,\u001b[0m \u001b[0mstds\u001b[0m \u001b[1;33m=\u001b[0m \u001b[0mnormalisePixels\u001b[0m\u001b[1;33m(\u001b[0m\u001b[0mpixel_data\u001b[0m\u001b[1;33m)\u001b[0m\u001b[1;33m\u001b[0m\u001b[0m\n",
      "\u001b[1;31merror\u001b[0m: OpenCV(4.0.0) C:\\projects\\opencv-python\\opencv\\modules\\imgproc\\src\\color.cpp:181: error: (-215:Assertion failed) !_src.empty() in function 'cv::cvtColor'\n"
     ]
    }
   ],
   "source": [
    "files_to_test = ['51sm64mnQcL._SX342_.jpg','100082743.png','290066548.png','advance-payment-against-proforma-invoice-non-b-nw.jpg','argentina-certificate-of-origin.jpg','ARITACER1.jpg','b3bab39a63b38db79cd20f1422a5a06d.jpg','Certificate_of_origin_example_LRG.jpg','commercial-invoice (1).jpg','commercial-invoice.jpg','download.PNG','images (1).jpg','images (1).PNG','images (2).PNG','images (3).PNG']\n",
    "files_to_retest = ['advance-payment-against-proforma-invoice-non-b-nw.jpg','images (3).PNG']\n",
    "for filename in files_to_retest:\n",
    "    img = cv2.imread(filename)\n",
    "    hsl = cv2.cvtColor(img, cv2.COLOR_BGR2HLS)\n",
    "    pixel_data = pixelVectors(hsl)\n",
    "    normed_pixels, means, stds = normalisePixels(pixel_data)\n",
    "    # Run K-means clustering on the normalised vectors\n",
    "    # Assume 2 clusters - one for logo and one for the rest of the document\n",
    "    kmeans = KMeans(n_clusters=2, random_state=0).fit(normed_pixels)\n",
    "    cluster_centers = kmeans.cluster_centers_\n",
    "    print(cluster_centers*stds+means)\n",
    "    logo_cluster = findLogoCluster(cluster_centers)\n",
    "    showLogoCluster(normed_pixels, kmeans, means, stds, img)"
   ]
  },
  {
   "cell_type": "code",
   "execution_count": 13,
   "metadata": {},
   "outputs": [],
   "source": [
    "# Read all images into a list\n",
    "image_list = []\n",
    "for ext in [\"jpg\",\"gif\",\"png\"]:\n",
    "    for filename in glob.glob('C:/users/szyma/Documents/Data Science projects/Logos/logo_images/*.%s' % ext) : #assuming png\n",
    "        img = cv2.imread(filename)\n",
    "        image_list.append(img)"
   ]
  }
 ],
 "metadata": {
  "kernelspec": {
   "display_name": "Python 3",
   "language": "python",
   "name": "python3"
  },
  "language_info": {
   "codemirror_mode": {
    "name": "ipython",
    "version": 3
   },
   "file_extension": ".py",
   "mimetype": "text/x-python",
   "name": "python",
   "nbconvert_exporter": "python",
   "pygments_lexer": "ipython3",
   "version": "3.5.6"
  }
 },
 "nbformat": 4,
 "nbformat_minor": 2
}
